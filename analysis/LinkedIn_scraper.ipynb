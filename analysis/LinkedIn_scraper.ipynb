{
 "cells": [
  {
   "cell_type": "code",
   "execution_count": 5,
   "metadata": {},
   "outputs": [],
   "source": [
    "import time\n",
    "from bs4 import BeautifulSoup\n",
    "from selenium import webdriver\n",
    "import pandas as pd \n",
    "from selenium.webdriver.common.by import By\n",
    "from selenium.webdriver.support.ui import WebDriverWait\n",
    "from selenium.webdriver.support import expected_conditions as EC\n",
    "from selenium.common.exceptions import TimeoutException \n",
    "from selenium.common.exceptions import NoSuchElementException"
   ]
  },
  {
   "cell_type": "code",
   "execution_count": 12,
   "metadata": {},
   "outputs": [],
   "source": [
    "# Prompt the user to input their LinkedIn username and password\n",
    "USERNAME = input(\"Enter  LinkedIn username: \")\n",
    "PASSWORD = input(\"Enter your LinkedIn password: \")\n",
    "\n",
    "# Set up the Selenium WebDriver using ChromeDriver\n",
    "driver = webdriver.Chrome()\n",
    "driver.get(\"https://linkedin.com/login\")  # Open LinkedIn login page\n",
    "\n",
    "# Find and fill in the username field\n",
    "username_field = driver.find_element(By.ID, \"username\")\n",
    "username_field.send_keys(USERNAME)\n",
    "# Find and fill in the password field\n",
    "password_field = driver.find_element(By.ID, \"password\")\n",
    "password_field.send_keys(PASSWORD)\n",
    "\n",
    "# Click on the sign-in button\n",
    "sign_in_btn = driver.find_element(By.CSS_SELECTOR, \"button[type='submit']\")\n",
    "sign_in_btn.click()\n",
    "driver.maximize_window()  # Maximize the browser window for better visibility\n"
   ]
  },
  {
   "cell_type": "code",
   "execution_count": null,
   "metadata": {},
   "outputs": [],
   "source": []
  },
  {
   "cell_type": "code",
   "execution_count": 13,
   "metadata": {},
   "outputs": [
    {
     "name": "stdout",
     "output_type": "stream",
     "text": [
      "Sign-in button clicked successfully\n"
     ]
    }
   ],
   "source": [
    "\n",
    "# Set up the Selenium WebDriver using ChromeDriver\n",
    "driver = webdriver.Chrome()\n",
    "driver.get(\"https://linkedin.com/login\")  # Open LinkedIn login page\n",
    "\n",
    "# Find and fill in the username field\n",
    "username_field = driver.find_element(By.ID, \"username\")\n",
    "username_field.send_keys(USERNAME)\n",
    "\n",
    "# Find and fill in the password field\n",
    "password_field = driver.find_element(By.ID, \"password\")\n",
    "password_field.send_keys(PASSWORD)\n",
    "\n",
    "# Click on the sign-in button\n",
    "sign_in_btn = driver.find_element(By.CSS_SELECTOR, \"button[type='submit']\")\n",
    "sign_in_btn.click()\n",
    "\n",
    "# Assuming the click was successful if no exception is raised\n",
    "print(\"Sign-in button clicked successfully\")\n",
    "\n",
    "driver.maximize_window()  # Maximize the browser window for better visibility\n"
   ]
  },
  {
   "cell_type": "code",
   "execution_count": 14,
   "metadata": {},
   "outputs": [
    {
     "name": "stdout",
     "output_type": "stream",
     "text": [
      "Closed Job postings button clicked successfully\n"
     ]
    }
   ],
   "source": [
    "# Define the profile URL to scrape\n",
    "profile_url = \"https://www.linkedin.com/my-items/posted-jobs/?jobState=CLOSED\"\n",
    "driver.get(profile_url)  # Open the profile URL\n",
    "print(\"Closed Job postings button clicked successfully\")\n"
   ]
  },
  {
   "cell_type": "code",
   "execution_count": 8,
   "metadata": {},
   "outputs": [
    {
     "ename": "NoSuchElementException",
     "evalue": "Message: no such element: Unable to locate element: {\"method\":\"xpath\",\"selector\":\"//a[@href=\"https://www.linkedin.com/hiring/jobs/3673652843/detail/\"]\"}\n  (Session info: chrome=136.0.7103.114); For documentation on this error, please visit: https://www.selenium.dev/documentation/webdriver/troubleshooting/errors#no-such-element-exception\nStacktrace:\n\tGetHandleVerifier [0x00007FF70EF4CF45+75717]\n\tGetHandleVerifier [0x00007FF70EF4CFA0+75808]\n\t(No symbol) [0x00007FF70ED18F9A]\n\t(No symbol) [0x00007FF70ED6F4C6]\n\t(No symbol) [0x00007FF70ED6F77C]\n\t(No symbol) [0x00007FF70EDC2577]\n\t(No symbol) [0x00007FF70ED973BF]\n\t(No symbol) [0x00007FF70EDBF39C]\n\t(No symbol) [0x00007FF70ED97153]\n\t(No symbol) [0x00007FF70ED60421]\n\t(No symbol) [0x00007FF70ED611B3]\n\tGetHandleVerifier [0x00007FF70F24D71D+3223453]\n\tGetHandleVerifier [0x00007FF70F247CC2+3200322]\n\tGetHandleVerifier [0x00007FF70F265AF3+3322739]\n\tGetHandleVerifier [0x00007FF70EF66A1A+180890]\n\tGetHandleVerifier [0x00007FF70EF6E11F+211359]\n\tGetHandleVerifier [0x00007FF70EF55294+109332]\n\tGetHandleVerifier [0x00007FF70EF55442+109762]\n\tGetHandleVerifier [0x00007FF70EF3BA59+4825]\n\tBaseThreadInitThunk [0x00007FFD3019E8D7+23]\n\tRtlUserThreadStart [0x00007FFD3181C5DC+44]\n",
     "output_type": "error",
     "traceback": [
      "\u001b[31m---------------------------------------------------------------------------\u001b[39m",
      "\u001b[31mNoSuchElementException\u001b[39m                    Traceback (most recent call last)",
      "\u001b[36mCell\u001b[39m\u001b[36m \u001b[39m\u001b[32mIn[8]\u001b[39m\u001b[32m, line 2\u001b[39m\n\u001b[32m      1\u001b[39m \u001b[38;5;66;03m# Find the link for a specific job\u001b[39;00m\n\u001b[32m----> \u001b[39m\u001b[32m2\u001b[39m link = \u001b[43mdriver\u001b[49m\u001b[43m.\u001b[49m\u001b[43mfind_element\u001b[49m\u001b[43m(\u001b[49m\u001b[43mBy\u001b[49m\u001b[43m.\u001b[49m\u001b[43mXPATH\u001b[49m\u001b[43m,\u001b[49m\u001b[43m \u001b[49m\u001b[33;43m'\u001b[39;49m\u001b[33;43m//a[@href=\u001b[39;49m\u001b[33;43m\"\u001b[39;49m\u001b[33;43mhttps://www.linkedin.com/hiring/jobs/3673652843/detail/\u001b[39;49m\u001b[33;43m\"\u001b[39;49m\u001b[33;43m]\u001b[39;49m\u001b[33;43m'\u001b[39;49m\u001b[43m)\u001b[49m\n\u001b[32m      3\u001b[39m link.click()  \u001b[38;5;66;03m# Click on the job link\u001b[39;00m\n\u001b[32m      4\u001b[39m \u001b[38;5;28mprint\u001b[39m(\u001b[33m\"\u001b[39m\u001b[33mResearch Assistant job position opened successfully\u001b[39m\u001b[33m\"\u001b[39m)\n",
      "\u001b[36mFile \u001b[39m\u001b[32mc:\\Users\\saura\\ai-profile-scanner\\venv\\Lib\\site-packages\\selenium\\webdriver\\remote\\webdriver.py:914\u001b[39m, in \u001b[36mWebDriver.find_element\u001b[39m\u001b[34m(self, by, value)\u001b[39m\n\u001b[32m    911\u001b[39m         \u001b[38;5;28;01mraise\u001b[39;00m NoSuchElementException(\u001b[33mf\u001b[39m\u001b[33m\"\u001b[39m\u001b[33mCannot locate relative element with: \u001b[39m\u001b[38;5;132;01m{\u001b[39;00mby.root\u001b[38;5;132;01m}\u001b[39;00m\u001b[33m\"\u001b[39m)\n\u001b[32m    912\u001b[39m     \u001b[38;5;28;01mreturn\u001b[39;00m elements[\u001b[32m0\u001b[39m]\n\u001b[32m--> \u001b[39m\u001b[32m914\u001b[39m \u001b[38;5;28;01mreturn\u001b[39;00m \u001b[38;5;28;43mself\u001b[39;49m\u001b[43m.\u001b[49m\u001b[43mexecute\u001b[49m\u001b[43m(\u001b[49m\u001b[43mCommand\u001b[49m\u001b[43m.\u001b[49m\u001b[43mFIND_ELEMENT\u001b[49m\u001b[43m,\u001b[49m\u001b[43m \u001b[49m\u001b[43m{\u001b[49m\u001b[33;43m\"\u001b[39;49m\u001b[33;43musing\u001b[39;49m\u001b[33;43m\"\u001b[39;49m\u001b[43m:\u001b[49m\u001b[43m \u001b[49m\u001b[43mby\u001b[49m\u001b[43m,\u001b[49m\u001b[43m \u001b[49m\u001b[33;43m\"\u001b[39;49m\u001b[33;43mvalue\u001b[39;49m\u001b[33;43m\"\u001b[39;49m\u001b[43m:\u001b[49m\u001b[43m \u001b[49m\u001b[43mvalue\u001b[49m\u001b[43m}\u001b[49m\u001b[43m)\u001b[49m[\u001b[33m\"\u001b[39m\u001b[33mvalue\u001b[39m\u001b[33m\"\u001b[39m]\n",
      "\u001b[36mFile \u001b[39m\u001b[32mc:\\Users\\saura\\ai-profile-scanner\\venv\\Lib\\site-packages\\selenium\\webdriver\\remote\\webdriver.py:447\u001b[39m, in \u001b[36mWebDriver.execute\u001b[39m\u001b[34m(self, driver_command, params)\u001b[39m\n\u001b[32m    445\u001b[39m response = \u001b[38;5;28mself\u001b[39m.command_executor.execute(driver_command, params)\n\u001b[32m    446\u001b[39m \u001b[38;5;28;01mif\u001b[39;00m response:\n\u001b[32m--> \u001b[39m\u001b[32m447\u001b[39m     \u001b[38;5;28;43mself\u001b[39;49m\u001b[43m.\u001b[49m\u001b[43merror_handler\u001b[49m\u001b[43m.\u001b[49m\u001b[43mcheck_response\u001b[49m\u001b[43m(\u001b[49m\u001b[43mresponse\u001b[49m\u001b[43m)\u001b[49m\n\u001b[32m    448\u001b[39m     response[\u001b[33m\"\u001b[39m\u001b[33mvalue\u001b[39m\u001b[33m\"\u001b[39m] = \u001b[38;5;28mself\u001b[39m._unwrap_value(response.get(\u001b[33m\"\u001b[39m\u001b[33mvalue\u001b[39m\u001b[33m\"\u001b[39m, \u001b[38;5;28;01mNone\u001b[39;00m))\n\u001b[32m    449\u001b[39m     \u001b[38;5;28;01mreturn\u001b[39;00m response\n",
      "\u001b[36mFile \u001b[39m\u001b[32mc:\\Users\\saura\\ai-profile-scanner\\venv\\Lib\\site-packages\\selenium\\webdriver\\remote\\errorhandler.py:232\u001b[39m, in \u001b[36mErrorHandler.check_response\u001b[39m\u001b[34m(self, response)\u001b[39m\n\u001b[32m    230\u001b[39m         alert_text = value[\u001b[33m\"\u001b[39m\u001b[33malert\u001b[39m\u001b[33m\"\u001b[39m].get(\u001b[33m\"\u001b[39m\u001b[33mtext\u001b[39m\u001b[33m\"\u001b[39m)\n\u001b[32m    231\u001b[39m     \u001b[38;5;28;01mraise\u001b[39;00m exception_class(message, screen, stacktrace, alert_text)  \u001b[38;5;66;03m# type: ignore[call-arg]  # mypy is not smart enough here\u001b[39;00m\n\u001b[32m--> \u001b[39m\u001b[32m232\u001b[39m \u001b[38;5;28;01mraise\u001b[39;00m exception_class(message, screen, stacktrace)\n",
      "\u001b[31mNoSuchElementException\u001b[39m: Message: no such element: Unable to locate element: {\"method\":\"xpath\",\"selector\":\"//a[@href=\"https://www.linkedin.com/hiring/jobs/3673652843/detail/\"]\"}\n  (Session info: chrome=136.0.7103.114); For documentation on this error, please visit: https://www.selenium.dev/documentation/webdriver/troubleshooting/errors#no-such-element-exception\nStacktrace:\n\tGetHandleVerifier [0x00007FF70EF4CF45+75717]\n\tGetHandleVerifier [0x00007FF70EF4CFA0+75808]\n\t(No symbol) [0x00007FF70ED18F9A]\n\t(No symbol) [0x00007FF70ED6F4C6]\n\t(No symbol) [0x00007FF70ED6F77C]\n\t(No symbol) [0x00007FF70EDC2577]\n\t(No symbol) [0x00007FF70ED973BF]\n\t(No symbol) [0x00007FF70EDBF39C]\n\t(No symbol) [0x00007FF70ED97153]\n\t(No symbol) [0x00007FF70ED60421]\n\t(No symbol) [0x00007FF70ED611B3]\n\tGetHandleVerifier [0x00007FF70F24D71D+3223453]\n\tGetHandleVerifier [0x00007FF70F247CC2+3200322]\n\tGetHandleVerifier [0x00007FF70F265AF3+3322739]\n\tGetHandleVerifier [0x00007FF70EF66A1A+180890]\n\tGetHandleVerifier [0x00007FF70EF6E11F+211359]\n\tGetHandleVerifier [0x00007FF70EF55294+109332]\n\tGetHandleVerifier [0x00007FF70EF55442+109762]\n\tGetHandleVerifier [0x00007FF70EF3BA59+4825]\n\tBaseThreadInitThunk [0x00007FFD3019E8D7+23]\n\tRtlUserThreadStart [0x00007FFD3181C5DC+44]\n"
     ]
    }
   ],
   "source": [
    "# Find the link for a specific job\n",
    "link = driver.find_element(By.XPATH, '//a[@href=\"https://www.linkedin.com/hiring/jobs/3673652843/detail/\"]')\n",
    "link.click()  # Click on the job link\n",
    "print(\"Research Assistant job position opened successfully\")\n"
   ]
  },
  {
   "cell_type": "code",
   "execution_count": 9,
   "metadata": {},
   "outputs": [
    {
     "ename": "NoSuchElementException",
     "evalue": "Message: no such element: Unable to locate element: {\"method\":\"xpath\",\"selector\":\"//span[text()=\"View applicants\"]\"}\n  (Session info: chrome=136.0.7103.114); For documentation on this error, please visit: https://www.selenium.dev/documentation/webdriver/troubleshooting/errors#no-such-element-exception\nStacktrace:\n\tGetHandleVerifier [0x00007FF70EF4CF45+75717]\n\tGetHandleVerifier [0x00007FF70EF4CFA0+75808]\n\t(No symbol) [0x00007FF70ED18F9A]\n\t(No symbol) [0x00007FF70ED6F4C6]\n\t(No symbol) [0x00007FF70ED6F77C]\n\t(No symbol) [0x00007FF70EDC2577]\n\t(No symbol) [0x00007FF70ED973BF]\n\t(No symbol) [0x00007FF70EDBF39C]\n\t(No symbol) [0x00007FF70ED97153]\n\t(No symbol) [0x00007FF70ED60421]\n\t(No symbol) [0x00007FF70ED611B3]\n\tGetHandleVerifier [0x00007FF70F24D71D+3223453]\n\tGetHandleVerifier [0x00007FF70F247CC2+3200322]\n\tGetHandleVerifier [0x00007FF70F265AF3+3322739]\n\tGetHandleVerifier [0x00007FF70EF66A1A+180890]\n\tGetHandleVerifier [0x00007FF70EF6E11F+211359]\n\tGetHandleVerifier [0x00007FF70EF55294+109332]\n\tGetHandleVerifier [0x00007FF70EF55442+109762]\n\tGetHandleVerifier [0x00007FF70EF3BA59+4825]\n\tBaseThreadInitThunk [0x00007FFD3019E8D7+23]\n\tRtlUserThreadStart [0x00007FFD3181C5DC+44]\n",
     "output_type": "error",
     "traceback": [
      "\u001b[31m---------------------------------------------------------------------------\u001b[39m",
      "\u001b[31mNoSuchElementException\u001b[39m                    Traceback (most recent call last)",
      "\u001b[36mCell\u001b[39m\u001b[36m \u001b[39m\u001b[32mIn[9]\u001b[39m\u001b[32m, line 2\u001b[39m\n\u001b[32m      1\u001b[39m \u001b[38;5;66;03m# Click on the 'View applicants' button\u001b[39;00m\n\u001b[32m----> \u001b[39m\u001b[32m2\u001b[39m span_element = \u001b[43mdriver\u001b[49m\u001b[43m.\u001b[49m\u001b[43mfind_element\u001b[49m\u001b[43m(\u001b[49m\u001b[43mBy\u001b[49m\u001b[43m.\u001b[49m\u001b[43mXPATH\u001b[49m\u001b[43m,\u001b[49m\u001b[43m \u001b[49m\u001b[33;43m'\u001b[39;49m\u001b[33;43m//span[text()=\u001b[39;49m\u001b[33;43m\"\u001b[39;49m\u001b[33;43mView applicants\u001b[39;49m\u001b[33;43m\"\u001b[39;49m\u001b[33;43m]\u001b[39;49m\u001b[33;43m'\u001b[39;49m\u001b[43m)\u001b[49m\n\u001b[32m      3\u001b[39m span_element.click()\n\u001b[32m      4\u001b[39m \u001b[38;5;28mprint\u001b[39m(\u001b[33m\"\u001b[39m\u001b[33mView applicants button clicked successfully\u001b[39m\u001b[33m\"\u001b[39m)\n",
      "\u001b[36mFile \u001b[39m\u001b[32mc:\\Users\\saura\\ai-profile-scanner\\venv\\Lib\\site-packages\\selenium\\webdriver\\remote\\webdriver.py:914\u001b[39m, in \u001b[36mWebDriver.find_element\u001b[39m\u001b[34m(self, by, value)\u001b[39m\n\u001b[32m    911\u001b[39m         \u001b[38;5;28;01mraise\u001b[39;00m NoSuchElementException(\u001b[33mf\u001b[39m\u001b[33m\"\u001b[39m\u001b[33mCannot locate relative element with: \u001b[39m\u001b[38;5;132;01m{\u001b[39;00mby.root\u001b[38;5;132;01m}\u001b[39;00m\u001b[33m\"\u001b[39m)\n\u001b[32m    912\u001b[39m     \u001b[38;5;28;01mreturn\u001b[39;00m elements[\u001b[32m0\u001b[39m]\n\u001b[32m--> \u001b[39m\u001b[32m914\u001b[39m \u001b[38;5;28;01mreturn\u001b[39;00m \u001b[38;5;28;43mself\u001b[39;49m\u001b[43m.\u001b[49m\u001b[43mexecute\u001b[49m\u001b[43m(\u001b[49m\u001b[43mCommand\u001b[49m\u001b[43m.\u001b[49m\u001b[43mFIND_ELEMENT\u001b[49m\u001b[43m,\u001b[49m\u001b[43m \u001b[49m\u001b[43m{\u001b[49m\u001b[33;43m\"\u001b[39;49m\u001b[33;43musing\u001b[39;49m\u001b[33;43m\"\u001b[39;49m\u001b[43m:\u001b[49m\u001b[43m \u001b[49m\u001b[43mby\u001b[49m\u001b[43m,\u001b[49m\u001b[43m \u001b[49m\u001b[33;43m\"\u001b[39;49m\u001b[33;43mvalue\u001b[39;49m\u001b[33;43m\"\u001b[39;49m\u001b[43m:\u001b[49m\u001b[43m \u001b[49m\u001b[43mvalue\u001b[49m\u001b[43m}\u001b[49m\u001b[43m)\u001b[49m[\u001b[33m\"\u001b[39m\u001b[33mvalue\u001b[39m\u001b[33m\"\u001b[39m]\n",
      "\u001b[36mFile \u001b[39m\u001b[32mc:\\Users\\saura\\ai-profile-scanner\\venv\\Lib\\site-packages\\selenium\\webdriver\\remote\\webdriver.py:447\u001b[39m, in \u001b[36mWebDriver.execute\u001b[39m\u001b[34m(self, driver_command, params)\u001b[39m\n\u001b[32m    445\u001b[39m response = \u001b[38;5;28mself\u001b[39m.command_executor.execute(driver_command, params)\n\u001b[32m    446\u001b[39m \u001b[38;5;28;01mif\u001b[39;00m response:\n\u001b[32m--> \u001b[39m\u001b[32m447\u001b[39m     \u001b[38;5;28;43mself\u001b[39;49m\u001b[43m.\u001b[49m\u001b[43merror_handler\u001b[49m\u001b[43m.\u001b[49m\u001b[43mcheck_response\u001b[49m\u001b[43m(\u001b[49m\u001b[43mresponse\u001b[49m\u001b[43m)\u001b[49m\n\u001b[32m    448\u001b[39m     response[\u001b[33m\"\u001b[39m\u001b[33mvalue\u001b[39m\u001b[33m\"\u001b[39m] = \u001b[38;5;28mself\u001b[39m._unwrap_value(response.get(\u001b[33m\"\u001b[39m\u001b[33mvalue\u001b[39m\u001b[33m\"\u001b[39m, \u001b[38;5;28;01mNone\u001b[39;00m))\n\u001b[32m    449\u001b[39m     \u001b[38;5;28;01mreturn\u001b[39;00m response\n",
      "\u001b[36mFile \u001b[39m\u001b[32mc:\\Users\\saura\\ai-profile-scanner\\venv\\Lib\\site-packages\\selenium\\webdriver\\remote\\errorhandler.py:232\u001b[39m, in \u001b[36mErrorHandler.check_response\u001b[39m\u001b[34m(self, response)\u001b[39m\n\u001b[32m    230\u001b[39m         alert_text = value[\u001b[33m\"\u001b[39m\u001b[33malert\u001b[39m\u001b[33m\"\u001b[39m].get(\u001b[33m\"\u001b[39m\u001b[33mtext\u001b[39m\u001b[33m\"\u001b[39m)\n\u001b[32m    231\u001b[39m     \u001b[38;5;28;01mraise\u001b[39;00m exception_class(message, screen, stacktrace, alert_text)  \u001b[38;5;66;03m# type: ignore[call-arg]  # mypy is not smart enough here\u001b[39;00m\n\u001b[32m--> \u001b[39m\u001b[32m232\u001b[39m \u001b[38;5;28;01mraise\u001b[39;00m exception_class(message, screen, stacktrace)\n",
      "\u001b[31mNoSuchElementException\u001b[39m: Message: no such element: Unable to locate element: {\"method\":\"xpath\",\"selector\":\"//span[text()=\"View applicants\"]\"}\n  (Session info: chrome=136.0.7103.114); For documentation on this error, please visit: https://www.selenium.dev/documentation/webdriver/troubleshooting/errors#no-such-element-exception\nStacktrace:\n\tGetHandleVerifier [0x00007FF70EF4CF45+75717]\n\tGetHandleVerifier [0x00007FF70EF4CFA0+75808]\n\t(No symbol) [0x00007FF70ED18F9A]\n\t(No symbol) [0x00007FF70ED6F4C6]\n\t(No symbol) [0x00007FF70ED6F77C]\n\t(No symbol) [0x00007FF70EDC2577]\n\t(No symbol) [0x00007FF70ED973BF]\n\t(No symbol) [0x00007FF70EDBF39C]\n\t(No symbol) [0x00007FF70ED97153]\n\t(No symbol) [0x00007FF70ED60421]\n\t(No symbol) [0x00007FF70ED611B3]\n\tGetHandleVerifier [0x00007FF70F24D71D+3223453]\n\tGetHandleVerifier [0x00007FF70F247CC2+3200322]\n\tGetHandleVerifier [0x00007FF70F265AF3+3322739]\n\tGetHandleVerifier [0x00007FF70EF66A1A+180890]\n\tGetHandleVerifier [0x00007FF70EF6E11F+211359]\n\tGetHandleVerifier [0x00007FF70EF55294+109332]\n\tGetHandleVerifier [0x00007FF70EF55442+109762]\n\tGetHandleVerifier [0x00007FF70EF3BA59+4825]\n\tBaseThreadInitThunk [0x00007FFD3019E8D7+23]\n\tRtlUserThreadStart [0x00007FFD3181C5DC+44]\n"
     ]
    }
   ],
   "source": [
    "# Click on the 'View applicants' button\n",
    "span_element = driver.find_element(By.XPATH, '//span[text()=\"View applicants\"]')\n",
    "span_element.click()\n",
    "print(\"View applicants button clicked successfully\")\n"
   ]
  },
  {
   "cell_type": "code",
   "execution_count": 11,
   "metadata": {},
   "outputs": [
    {
     "ename": "FeatureNotFound",
     "evalue": "Couldn't find a tree builder with the features you requested: lxml. Do you need to install a parser library?",
     "output_type": "error",
     "traceback": [
      "\u001b[31m---------------------------------------------------------------------------\u001b[39m",
      "\u001b[31mFeatureNotFound\u001b[39m                           Traceback (most recent call last)",
      "\u001b[36mCell\u001b[39m\u001b[36m \u001b[39m\u001b[32mIn[11]\u001b[39m\u001b[32m, line 2\u001b[39m\n\u001b[32m      1\u001b[39m \u001b[38;5;66;03m# Create a new BeautifulSoup object with updated page source\u001b[39;00m\n\u001b[32m----> \u001b[39m\u001b[32m2\u001b[39m soup = \u001b[43mBeautifulSoup\u001b[49m\u001b[43m(\u001b[49m\u001b[43mdriver\u001b[49m\u001b[43m.\u001b[49m\u001b[43mpage_source\u001b[49m\u001b[43m,\u001b[49m\u001b[43m \u001b[49m\u001b[33;43m'\u001b[39;49m\u001b[33;43mlxml\u001b[39;49m\u001b[33;43m'\u001b[39;49m\u001b[43m)\u001b[49m\n\u001b[32m      3\u001b[39m \u001b[38;5;66;03m# Extract the number of pages from pagination\u001b[39;00m\n\u001b[32m      4\u001b[39m spans = soup.select(\u001b[33m'\u001b[39m\u001b[33mul.artdeco-pagination__pages--number span\u001b[39m\u001b[33m'\u001b[39m)\n",
      "\u001b[36mFile \u001b[39m\u001b[32mc:\\Users\\saura\\ai-profile-scanner\\venv\\Lib\\site-packages\\bs4\\__init__.py:364\u001b[39m, in \u001b[36mBeautifulSoup.__init__\u001b[39m\u001b[34m(self, markup, features, builder, parse_only, from_encoding, exclude_encodings, element_classes, **kwargs)\u001b[39m\n\u001b[32m    362\u001b[39m     possible_builder_class = builder_registry.lookup(*features)\n\u001b[32m    363\u001b[39m     \u001b[38;5;28;01mif\u001b[39;00m possible_builder_class \u001b[38;5;129;01mis\u001b[39;00m \u001b[38;5;28;01mNone\u001b[39;00m:\n\u001b[32m--> \u001b[39m\u001b[32m364\u001b[39m         \u001b[38;5;28;01mraise\u001b[39;00m FeatureNotFound(\n\u001b[32m    365\u001b[39m             \u001b[33m\"\u001b[39m\u001b[33mCouldn\u001b[39m\u001b[33m'\u001b[39m\u001b[33mt find a tree builder with the features you \u001b[39m\u001b[33m\"\u001b[39m\n\u001b[32m    366\u001b[39m             \u001b[33m\"\u001b[39m\u001b[33mrequested: \u001b[39m\u001b[38;5;132;01m%s\u001b[39;00m\u001b[33m. Do you need to install a parser library?\u001b[39m\u001b[33m\"\u001b[39m\n\u001b[32m    367\u001b[39m             % \u001b[33m\"\u001b[39m\u001b[33m,\u001b[39m\u001b[33m\"\u001b[39m.join(features)\n\u001b[32m    368\u001b[39m         )\n\u001b[32m    369\u001b[39m     builder_class = possible_builder_class\n\u001b[32m    371\u001b[39m \u001b[38;5;66;03m# At this point either we have a TreeBuilder instance in\u001b[39;00m\n\u001b[32m    372\u001b[39m \u001b[38;5;66;03m# builder, or we have a builder_class that we can instantiate\u001b[39;00m\n\u001b[32m    373\u001b[39m \u001b[38;5;66;03m# with the remaining **kwargs.\u001b[39;00m\n",
      "\u001b[31mFeatureNotFound\u001b[39m: Couldn't find a tree builder with the features you requested: lxml. Do you need to install a parser library?"
     ]
    }
   ],
   "source": [
    "# Create a new BeautifulSoup object with updated page source\n",
    "soup = BeautifulSoup(driver.page_source, 'lxml')\n",
    "# Extract the number of pages from pagination\n",
    "spans = soup.select('ul.artdeco-pagination__pages--number span')\n",
    "total_pages = int(spans[-1].text)\n",
    "print(f'Total pages for this job application are {total_pages}')"
   ]
  },
  {
   "cell_type": "code",
   "execution_count": 15,
   "metadata": {},
   "outputs": [
    {
     "name": "stdout",
     "output_type": "stream",
     "text": [
      "https://www.linkedin.com/my-items/posted-jobs/?jobState=CLOSED&start=0\n",
      "No element found\n",
      "No element found\n",
      "No element found\n",
      "No element found\n",
      "https://www.linkedin.com/my-items/posted-jobs/?jobState=CLOSED&start=0&start=25\n",
      "No element found\n",
      "No element found\n",
      "No element found\n",
      "No element found\n"
     ]
    }
   ],
   "source": [
    "# Initialize variables\n",
    "applicants_info = []\n",
    "\n",
    "# Loop through each page of applicants\n",
    "for i in range(2):\n",
    "    current_url = f\"{driver.current_url}&start={i * 25}\"  # Update URL with pagination\n",
    "    print(current_url)\n",
    "    driver.get(current_url)\n",
    "    time.sleep(1)\n",
    "    # Loop through each applicant on the page\n",
    "    for j in range(1, 5):\n",
    "        xpath = f\"/html/body/div[4]/div[3]/div/div[3]/div/div/div[2]/ul/li[{j}]\"\n",
    "        try:\n",
    "            link_element = driver.find_element(By.XPATH, xpath)\n",
    "            link_element.click()\n",
    "        except NoSuchElementException:\n",
    "            print('No element found')\n",
    "            continue\n",
    "        if xpath:\n",
    "            try:\n",
    "                name = driver.find_element(By.XPATH, f\"/html/body/div[4]/div[3]/div/div[3]/div/div/div[2]/ul/li[{j}]/a/div/div[2]/div[1]\").text\n",
    "            except NoSuchElementException:\n",
    "                name = None\n",
    "            time.sleep(1)\n",
    "            # Extract applicant information\n",
    "            try:\n",
    "                current_title = driver.find_element(By.XPATH, '/html/body/div[4]/div[3]/div/div[3]/div/main/div/div[2]/div[1]/section[1]/ul/li[1]/div/p[1]').text\n",
    "            except NoSuchElementException:\n",
    "                current_title = None\n",
    "            try:\n",
    "                current_company = driver.find_element(By.XPATH, '/html/body/div[4]/div[3]/div/div[3]/div/main/div/div[2]/div[1]/section[1]/ul/li[1]/div/p[2]').text\n",
    "            except NoSuchElementException:\n",
    "                current_company = None\n",
    "            try:\n",
    "                location = driver.find_element(By.XPATH, f'/html/body/div[4]/div[3]/div/div[3]/div/main/div/div[1]/div[1]/div[1]/div[1]/div[2]').text\n",
    "            except NoSuchElementException:\n",
    "                location = None\n",
    "\n",
    "            # Click on 'More' button to reveal additional applicant information\n",
    "            more_button = WebDriverWait(driver, 2.5).until(\n",
    "                EC.element_to_be_clickable((By.XPATH, '/html/body/div[4]/div[3]/div/div[3]/div/main/div/div[1]/div[1]/div[1]/div[2]/div[3]'))\n",
    "            )\n",
    "            more_button.click()\n",
    "            time.sleep(1)\n",
    "\n",
    "            # Create a new BeautifulSoup object to parse updated page source\n",
    "            soup = BeautifulSoup(driver.page_source, 'html.parser')\n",
    "            results = soup.find_all('span', {'class': 'hiring-applicant-header-actions__more-content-dropdown-item-text'})\n",
    "            time.sleep(1)\n",
    "            # Extract LinkedIn URL\n",
    "            try:\n",
    "                linkedin = soup.find('div', class_='artdeco-dropdown__item artdeco-dropdown__item--is-dropdown ember-view p0').find('a').get('href')\n",
    "                linked_url = 'https://www.linkedin.com/' + linkedin\n",
    "            except AttributeError:\n",
    "                linked_url = None\n",
    "            time.sleep(1)\n",
    "            # Extract resume link\n",
    "            try:\n",
    "                div_element = soup.find('div', class_='display-flex justify-space-between align-items-flex-start pl5 pr5 pt5 pb3')\n",
    "                if div_element is None:\n",
    "                    div_element = soup.find('div', class_='ui-attachment ui-attachment--doc')\n",
    "                if div_element:\n",
    "                    resume_link = div_element.find('a').get('href')\n",
    "            except AttributeError:\n",
    "                resume_link = None\n",
    "            # Extract email and mobile number\n",
    "            try: \n",
    "                email, mob = [r.text.replace('\\n', '').replace(' ', '') for r in results]\n",
    "            except ValueError:\n",
    "                email = None\n",
    "                mob =  None\n",
    "\n",
    "            # Append applicant information to the list\n",
    "            info = {'Name': name, 'Email': email, 'Mobile': mob,\n",
    "                    'Location': location, \"Current title\": \n",
    "                    current_title,'Current Company': current_company,\n",
    "                    'LinkedIn_URL': linked_url, 'Resume_Link': resume_link}\n",
    "            \n",
    "            #Masked email and phone\n",
    "            masked_name = name[:len(name)//2] + '*' * (len(name) - len(name)//2)\n",
    "            masked_email = '*' * (len(email) - len(email)//2) + email[len(email)//2:]\n",
    "            masked_phone = mob[:len(mob)//2] + '*' * (len(mob) - len(mob)//2)\n",
    "            masked_linked_url = linked_url[:len(linked_url)-15] + '*' * (15)\n",
    "\n",
    "            #Print Job applicant info\n",
    "            print(f\"Name: {masked_name}\\nEmail: {masked_email}\\nMobile: {masked_phone}\\nLocation: {location}\\nCurrent title: {current_title}\\nCurrent Company: {current_company}\\nLinkedIn_URL: {masked_linked_url}\")\n",
    "\n",
    "            applicants_info.append(info)\n"
   ]
  },
  {
   "cell_type": "code",
   "execution_count": null,
   "metadata": {},
   "outputs": [],
   "source": [
    "# Create a DataFrame from the collected applicant information\n",
    "applicants_df = pd.DataFrame(applicants_info)\n",
    "\n",
    "# Save DataFrame to an Excel file\n",
    "applicants_df.to_excel('job_applicants.xlsx')"
   ]
  }
 ],
 "metadata": {
  "kernelspec": {
   "display_name": "venv",
   "language": "python",
   "name": "python3"
  },
  "language_info": {
   "codemirror_mode": {
    "name": "ipython",
    "version": 3
   },
   "file_extension": ".py",
   "mimetype": "text/x-python",
   "name": "python",
   "nbconvert_exporter": "python",
   "pygments_lexer": "ipython3",
   "version": "3.13.3"
  }
 },
 "nbformat": 4,
 "nbformat_minor": 2
}
